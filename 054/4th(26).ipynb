{
 "cells": [
  {
   "cell_type": "code",
   "execution_count": 5,
   "id": "22e0f1c5",
   "metadata": {},
   "outputs": [
    {
     "data": {
      "text/plain": [
       "sl.no      0\n",
       "name       0\n",
       "class      0\n",
       "address    1\n",
       "mobile     2\n",
       "dtype: int64"
      ]
     },
     "execution_count": 5,
     "metadata": {},
     "output_type": "execute_result"
    }
   ],
   "source": [
    "import pandas as pd\n",
    "import numpy as np\n",
    "\n",
    "data=pd.read_csv(\"student.csv\")\n",
    "\n",
    "data.drop_duplicates(subset=[\"name\"],keep=\"last\",inplace=True)\n",
    "data.head(10)\n",
    "data.isnull().sum()\n"
   ]
  },
  {
   "cell_type": "code",
   "execution_count": 6,
   "id": "55bd44dd",
   "metadata": {},
   "outputs": [
    {
     "name": "stdout",
     "output_type": "stream",
     "text": [
      "(7, 5)\n"
     ]
    }
   ],
   "source": [
    "print(data.shape)"
   ]
  },
  {
   "cell_type": "code",
   "execution_count": 8,
   "id": "b48910cf",
   "metadata": {},
   "outputs": [
    {
     "data": {
      "text/html": [
       "<div>\n",
       "<style scoped>\n",
       "    .dataframe tbody tr th:only-of-type {\n",
       "        vertical-align: middle;\n",
       "    }\n",
       "\n",
       "    .dataframe tbody tr th {\n",
       "        vertical-align: top;\n",
       "    }\n",
       "\n",
       "    .dataframe thead th {\n",
       "        text-align: right;\n",
       "    }\n",
       "</style>\n",
       "<table border=\"1\" class=\"dataframe\">\n",
       "  <thead>\n",
       "    <tr style=\"text-align: right;\">\n",
       "      <th></th>\n",
       "      <th>sl.no</th>\n",
       "      <th>name</th>\n",
       "      <th>class</th>\n",
       "      <th>address</th>\n",
       "      <th>mobile</th>\n",
       "    </tr>\n",
       "  </thead>\n",
       "  <tbody>\n",
       "    <tr>\n",
       "      <th>2</th>\n",
       "      <td>3</td>\n",
       "      <td>vriddhi</td>\n",
       "      <td>BE</td>\n",
       "      <td>nagara</td>\n",
       "      <td>NaN</td>\n",
       "    </tr>\n",
       "    <tr>\n",
       "      <th>3</th>\n",
       "      <td>4</td>\n",
       "      <td>rashmi</td>\n",
       "      <td>MSC</td>\n",
       "      <td>darbe</td>\n",
       "      <td>4.567892e+09</td>\n",
       "    </tr>\n",
       "    <tr>\n",
       "      <th>4</th>\n",
       "      <td>5</td>\n",
       "      <td>thanusha</td>\n",
       "      <td>BE</td>\n",
       "      <td>coorg</td>\n",
       "      <td>6.543346e+09</td>\n",
       "    </tr>\n",
       "    <tr>\n",
       "      <th>5</th>\n",
       "      <td>6</td>\n",
       "      <td>kripa</td>\n",
       "      <td>MSC</td>\n",
       "      <td>mangalore</td>\n",
       "      <td>3.453453e+09</td>\n",
       "    </tr>\n",
       "    <tr>\n",
       "      <th>6</th>\n",
       "      <td>7</td>\n",
       "      <td>krithi</td>\n",
       "      <td>MCA</td>\n",
       "      <td>puttur</td>\n",
       "      <td>3.424234e+09</td>\n",
       "    </tr>\n",
       "  </tbody>\n",
       "</table>\n",
       "</div>"
      ],
      "text/plain": [
       "   sl.no      name class    address        mobile\n",
       "2      3   vriddhi    BE     nagara           NaN\n",
       "3      4    rashmi   MSC      darbe  4.567892e+09\n",
       "4      5  thanusha    BE      coorg  6.543346e+09\n",
       "5      6     kripa   MSC  mangalore  3.453453e+09\n",
       "6      7    krithi   MCA     puttur  3.424234e+09"
      ]
     },
     "execution_count": 8,
     "metadata": {},
     "output_type": "execute_result"
    }
   ],
   "source": [
    "df_dropped=data.dropna()\n",
    "data.head()"
   ]
  },
  {
   "cell_type": "code",
   "execution_count": 11,
   "id": "b1810bbb",
   "metadata": {},
   "outputs": [
    {
     "data": {
      "text/html": [
       "<div>\n",
       "<style scoped>\n",
       "    .dataframe tbody tr th:only-of-type {\n",
       "        vertical-align: middle;\n",
       "    }\n",
       "\n",
       "    .dataframe tbody tr th {\n",
       "        vertical-align: top;\n",
       "    }\n",
       "\n",
       "    .dataframe thead th {\n",
       "        text-align: right;\n",
       "    }\n",
       "</style>\n",
       "<table border=\"1\" class=\"dataframe\">\n",
       "  <thead>\n",
       "    <tr style=\"text-align: right;\">\n",
       "      <th></th>\n",
       "      <th>sl.no</th>\n",
       "      <th>name</th>\n",
       "      <th>class</th>\n",
       "      <th>address</th>\n",
       "      <th>mobile</th>\n",
       "    </tr>\n",
       "  </thead>\n",
       "  <tbody>\n",
       "    <tr>\n",
       "      <th>2</th>\n",
       "      <td>3</td>\n",
       "      <td>vriddhi</td>\n",
       "      <td>BE</td>\n",
       "      <td>nagara</td>\n",
       "      <td>NaN</td>\n",
       "    </tr>\n",
       "    <tr>\n",
       "      <th>3</th>\n",
       "      <td>4</td>\n",
       "      <td>rashmi</td>\n",
       "      <td>MSC</td>\n",
       "      <td>darbe</td>\n",
       "      <td>4.567892e+09</td>\n",
       "    </tr>\n",
       "    <tr>\n",
       "      <th>4</th>\n",
       "      <td>5</td>\n",
       "      <td>thanusha</td>\n",
       "      <td>BE</td>\n",
       "      <td>coorg</td>\n",
       "      <td>6.543346e+09</td>\n",
       "    </tr>\n",
       "    <tr>\n",
       "      <th>5</th>\n",
       "      <td>6</td>\n",
       "      <td>kripa</td>\n",
       "      <td>MSC</td>\n",
       "      <td>mangalore</td>\n",
       "      <td>3.453453e+09</td>\n",
       "    </tr>\n",
       "    <tr>\n",
       "      <th>6</th>\n",
       "      <td>7</td>\n",
       "      <td>krithi</td>\n",
       "      <td>MCA</td>\n",
       "      <td>puttur</td>\n",
       "      <td>3.424234e+09</td>\n",
       "    </tr>\n",
       "  </tbody>\n",
       "</table>\n",
       "</div>"
      ],
      "text/plain": [
       "   sl.no      name class    address        mobile\n",
       "2      3   vriddhi    BE     nagara           NaN\n",
       "3      4    rashmi   MSC      darbe  4.567892e+09\n",
       "4      5  thanusha    BE      coorg  6.543346e+09\n",
       "5      6     kripa   MSC  mangalore  3.453453e+09\n",
       "6      7    krithi   MCA     puttur  3.424234e+09"
      ]
     },
     "execution_count": 11,
     "metadata": {},
     "output_type": "execute_result"
    }
   ],
   "source": [
    "data['address']=data['address'].fillna('darbe')\n",
    "data.head()"
   ]
  },
  {
   "cell_type": "code",
   "execution_count": 13,
   "id": "e666c29f",
   "metadata": {},
   "outputs": [
    {
     "data": {
      "text/html": [
       "<div>\n",
       "<style scoped>\n",
       "    .dataframe tbody tr th:only-of-type {\n",
       "        vertical-align: middle;\n",
       "    }\n",
       "\n",
       "    .dataframe tbody tr th {\n",
       "        vertical-align: top;\n",
       "    }\n",
       "\n",
       "    .dataframe thead th {\n",
       "        text-align: right;\n",
       "    }\n",
       "</style>\n",
       "<table border=\"1\" class=\"dataframe\">\n",
       "  <thead>\n",
       "    <tr style=\"text-align: right;\">\n",
       "      <th></th>\n",
       "      <th>sl.no</th>\n",
       "      <th>name</th>\n",
       "      <th>class</th>\n",
       "      <th>address</th>\n",
       "      <th>mobile</th>\n",
       "    </tr>\n",
       "  </thead>\n",
       "  <tbody>\n",
       "    <tr>\n",
       "      <th>2</th>\n",
       "      <td>3</td>\n",
       "      <td>vriddhi</td>\n",
       "      <td>BE</td>\n",
       "      <td>nagara</td>\n",
       "      <td>4.728696e+09</td>\n",
       "    </tr>\n",
       "    <tr>\n",
       "      <th>3</th>\n",
       "      <td>4</td>\n",
       "      <td>rashmi</td>\n",
       "      <td>MSC</td>\n",
       "      <td>darbe</td>\n",
       "      <td>4.567892e+09</td>\n",
       "    </tr>\n",
       "    <tr>\n",
       "      <th>4</th>\n",
       "      <td>5</td>\n",
       "      <td>thanusha</td>\n",
       "      <td>BE</td>\n",
       "      <td>coorg</td>\n",
       "      <td>6.543346e+09</td>\n",
       "    </tr>\n",
       "    <tr>\n",
       "      <th>5</th>\n",
       "      <td>6</td>\n",
       "      <td>kripa</td>\n",
       "      <td>MSC</td>\n",
       "      <td>mangalore</td>\n",
       "      <td>3.453453e+09</td>\n",
       "    </tr>\n",
       "    <tr>\n",
       "      <th>6</th>\n",
       "      <td>7</td>\n",
       "      <td>krithi</td>\n",
       "      <td>MCA</td>\n",
       "      <td>puttur</td>\n",
       "      <td>3.424234e+09</td>\n",
       "    </tr>\n",
       "  </tbody>\n",
       "</table>\n",
       "</div>"
      ],
      "text/plain": [
       "   sl.no      name class    address        mobile\n",
       "2      3   vriddhi    BE     nagara  4.728696e+09\n",
       "3      4    rashmi   MSC      darbe  4.567892e+09\n",
       "4      5  thanusha    BE      coorg  6.543346e+09\n",
       "5      6     kripa   MSC  mangalore  3.453453e+09\n",
       "6      7    krithi   MCA     puttur  3.424234e+09"
      ]
     },
     "execution_count": 13,
     "metadata": {},
     "output_type": "execute_result"
    }
   ],
   "source": [
    "mean_val=data['mobile'].mean()\n",
    "data['mobile']=data['mobile'].fillna(mean_val)\n",
    "data.head()"
   ]
  },
  {
   "cell_type": "code",
   "execution_count": 20,
   "id": "9ad24201",
   "metadata": {},
   "outputs": [
    {
     "name": "stdout",
     "output_type": "stream",
     "text": [
      "      Col1  Col2  Col3\n",
      "Row1     1     1     1\n",
      "Row2     2     3     8\n",
      "Row3     3     5    27\n",
      "\n",
      "Trace of given 3*3 matrix\n",
      "31\n"
     ]
    }
   ],
   "source": [
    "#importing the modules\n",
    "import pandas as pd\n",
    "import numpy as np\n",
    "\n",
    "#creating numpy array\n",
    "array=np.array([[1,1,1],[2,3,8],[3,5,27],])\n",
    "\n",
    "#creating list of index names\n",
    "index_values=['Row1','Row2','Row3']\n",
    "                \n",
    "#creating the list of column names\n",
    "column_values=['Col1','Col2','Col3']\n",
    "                \n",
    "#creating the dataframe\n",
    "df=pd.DataFrame(data=array,\n",
    "index=index_values,\n",
    "columns=column_values)\n",
    "                \n",
    "print(df)\n",
    "                \n",
    "trace=np.trace(df)\n",
    "print(\"\\nTrace of given 3*3 matrix\")\n",
    "print(trace)"
   ]
  },
  {
   "cell_type": "code",
   "execution_count": 1,
   "id": "d2f27333",
   "metadata": {},
   "outputs": [
    {
     "name": "stdout",
     "output_type": "stream",
     "text": [
      "enter number of elements:5\n",
      "2\n",
      "9\n",
      "5\n",
      "7\n",
      "1\n",
      "[2, 9, 5, 7, 1]\n",
      "sorted array=[1 2 5 7 9]\n",
      "enter element to search:5\n",
      "index=(array([2]),)\n",
      "enter splitting values:5\n",
      "[array([1]), array([2]), array([5]), array([7]), array([9])]\n"
     ]
    }
   ],
   "source": [
    "#Array manipulation,seraching,sorting and splitting\n",
    "import numpy as np\n",
    "It=[]\n",
    "n=int(input(\"enter number of elements:\"))\n",
    "for i in range(0,n):\n",
    "    ele=int(input())\n",
    "    It.append(ele)\n",
    "print(It)\n",
    "arr=np.array(It)\n",
    "arr=np.sort(arr)\n",
    "print(\"sorted array={}\".format(arr))\n",
    "\n",
    "ele=int(input(\"enter element to search:\"))\n",
    "i=np.where(arr==ele)\n",
    "\n",
    "print(\"index={}\".format(i))\n",
    "s=int(input(\"enter splitting values:\"))\n",
    "newarr=np.array_split(arr,s)\n",
    "print(newarr)"
   ]
  },
  {
   "cell_type": "code",
   "execution_count": 6,
   "id": "46266e9a",
   "metadata": {},
   "outputs": [
    {
     "name": "stdout",
     "output_type": "stream",
     "text": [
      "[111. 188.] (2,)\n",
      "[[102. 203.]\n",
      " [132. 193.]\n",
      " [ 45. 155.]\n",
      " [ 57. 173.]] (4, 2)\n",
      "[[ -9.  15.]\n",
      " [ 21.   5.]\n",
      " [-66. -33.]\n",
      " [-54. -15.]] (4, 2)\n",
      "[17.49285568 21.58703314 73.79024326 56.04462508] (4,)\n"
     ]
    },
    {
     "data": {
      "text/plain": [
       "0"
      ]
     },
     "execution_count": 6,
     "metadata": {},
     "output_type": "execute_result"
    }
   ],
   "source": [
    "import numpy as np\n",
    "from numpy import array,argmin,sqrt,sum\n",
    "observation=array([111.0,188.0])\n",
    "codes=array([[102.0,203.0],\n",
    "            [132.0,193.0],\n",
    "            [45.0,155.0],\n",
    "            [57.0,173.0]])\n",
    "diff=codes-observation\n",
    "dist=sqrt(sum(diff**2,axis=-1))\n",
    "print(observation,observation.shape)\n",
    "print(codes,codes.shape)\n",
    "print(diff,diff.shape)\n",
    "print(dist,dist.shape)\n",
    "argmin(dist)"
   ]
  },
  {
   "cell_type": "code",
   "execution_count": 10,
   "id": "9e625d06",
   "metadata": {},
   "outputs": [
    {
     "data": {
      "image/png": "[encoded data removed]",
      "text/plain": [
       "<Figure size 432x288 with 1 Axes>"
      ]
     },
     "metadata": {
      "needs_background": "light"
     },
     "output_type": "display_data"
    }
   ],
   "source": [
    "import matplotlib.pyplot as plt\n",
    "x=np.arange(0,3*np.pi,0.1)\n",
    "y_sin=np.sin(x)\n",
    "y_cos=np.cos(x)\n",
    "\n",
    "plt.plot(x,y_sin)\n",
    "plt.plot(x,y_cos)\n",
    "plt.xlabel('x axis label')\n",
    "plt.ylabel('y axis label')\n",
    "plt.title('Sine and Cosine')\n",
    "plt.legend(['Sine','Cosine'])\n",
    "plt.show()"
   ]
  },
  {
   "cell_type": "code",
   "execution_count": 14,
   "id": "87abca74",
   "metadata": {},
   "outputs": [
    {
     "data": {
      "image/png": "[encoded data removed]",
      "text/plain": [
       "<Figure size 432x288 with 1 Axes>"
      ]
     },
     "metadata": {
      "needs_background": "light"
     },
     "output_type": "display_data"
    }
   ],
   "source": [
    "#line graph\n",
    "\n",
    "import pandas as pd\n",
    "import matplotlib.pyplot as plt\n",
    "data={'year':[1920,1930,1940,1950,1960,1970,1980,1990,2000,2010],\n",
    "     'unemployment_rate':[9.8,12,8,7.2,6.9,7,6.5,6.2,5.5,6.3]\n",
    "     }\n",
    "\n",
    "df=pd.DataFrame(data)\n",
    "plt.plot(df['year'],df['unemployment_rate'],color='red',marker='p')\n",
    "plt.title('unemployment rate vs year',fontsize=14)\n",
    "plt.xlabel('year',fontsize=14)\n",
    "plt.ylabel('unemployment rate',fontsize=14)\n",
    "plt.grid(True)\n",
    "plt.show()"
   ]
  },
  {
   "cell_type": "code",
   "execution_count": 16,
   "id": "d3510193",
   "metadata": {},
   "outputs": [
    {
     "data": {
      "image/png": "[encoded data removed]",
      "text/plain": [
       "<Figure size 432x288 with 1 Axes>"
      ]
     },
     "metadata": {
      "needs_background": "light"
     },
     "output_type": "display_data"
    }
   ],
   "source": [
    "#Scatter plot\n",
    "import matplotlib.pyplot as plt\n",
    "import numpy as np\n",
    "x=np.array([5,7,8,7,2,17,2,9,4,11,12,9,6])\n",
    "y=np.array([99,86,87,88,111,86,103,87,94,78,77,85,860])\n",
    "plt.scatter(x,y)\n",
    "plt.show()"
   ]
  },
  {
   "cell_type": "code",
   "execution_count": 19,
   "id": "ea41ad22",
   "metadata": {},
   "outputs": [
    {
     "data": {
      "image/png": "[encoded data removed]",
      "text/plain": [
       "<Figure size 432x288 with 1 Axes>"
      ]
     },
     "metadata": {
      "needs_background": "light"
     },
     "output_type": "display_data"
    }
   ],
   "source": [
    "#bar graph\n",
    "import matplotlib.pyplot as plt\n",
    "import numpy as np\n",
    "\n",
    "x=np.array([\"A\",\"B\",\"C\",\"D\"])\n",
    "y=np.array([3,8,1,10])\n",
    "plt.bar(x,y)\n",
    "plt.show()"
   ]
  },
  {
   "cell_type": "code",
   "execution_count": 20,
   "id": "0c213423",
   "metadata": {},
   "outputs": [
    {
     "data": {
      "image/png": "[encoded data removed]",
      "text/plain": [
       "<Figure size 720x504 with 1 Axes>"
      ]
     },
     "metadata": {
      "needs_background": "light"
     },
     "output_type": "display_data"
    }
   ],
   "source": [
    "#box pot\n",
    "import matplotlib.pyplot as plt\n",
    "import numpy as np\n",
    "\n",
    "np.random.seed(10)\n",
    "dataSet1=np.random.normal(100,10,220)\n",
    "dataSet2=np.random.normal(80,20,200)\n",
    "dataSet3=np.random.normal(60,35,220)\n",
    "dataSet4=np.random.normal(50,40,200)\n",
    "dataSet=[dataSet1,dataSet2,dataSet3,dataSet4]\n",
    "figure=plt.figure(figsize=(10,7))\n",
    "ax=figure.add_axes([0,0,1,1])\n",
    "bp=ax.boxplot(dataSet)\n",
    "plt.show()"
   ]
  },
  {
   "cell_type": "code",
   "execution_count": 23,
   "id": "fc7096de",
   "metadata": {},
   "outputs": [
    {
     "data": {
      "image/png": "[encoded data removed]",
      "text/plain": [
       "<Figure size 432x288 with 1 Axes>"
      ]
     },
     "metadata": {
      "needs_background": "light"
     },
     "output_type": "display_data"
    }
   ],
   "source": [
    "#histogram\n",
    "\n",
    "import matplotlib.pyplot as plt\n",
    "import numpy as np\n",
    "\n",
    "\n",
    "fig,ax=plt.subplots(1,1)\n",
    "a=np.array([22,87,5,43,56,73,55,54,11,20,51,5,79,31,27])\n",
    "ax.hist(a,bins=[0,25,50,75,100])\n",
    "ax.set_title(\"hiostogram of result\")\n",
    "ax.set_xticks([0,25,50,75,100])\n",
    "ax.set_xlabel('marks')\n",
    "ax.set_ylabel('no. of students')\n",
    "plt.show()"
   ]
  },
  {
   "cell_type": "code",
   "execution_count": null,
   "id": "ce135475",
   "metadata": {},
   "outputs": [],
   "source": []
  }
 ],
 "metadata": {
  "kernelspec": {
   "display_name": "Python 3 (ipykernel)",
   "language": "python",
   "name": "python3"
  },
  "language_info": {
   "codemirror_mode": {
    "name": "ipython",
    "version": 3
   },
   "file_extension": ".py",
   "mimetype": "text/x-python",
   "name": "python",
   "nbconvert_exporter": "python",
   "pygments_lexer": "ipython3",
   "version": "3.9.7"
  }
 },
 "nbformat": 4,
 "nbformat_minor": 5
}
