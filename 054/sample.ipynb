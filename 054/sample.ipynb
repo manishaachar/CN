{
 "cells": [
  {
   "cell_type": "markdown",
   "id": "ca144af2",
   "metadata": {},
   "source": []
  },
  {
   "cell_type": "code",
   "execution_count": 1,
   "id": "8d1ba9a4",
   "metadata": {},
   "outputs": [
    {
     "data": {
      "text/plain": [
       "30"
      ]
     },
     "execution_count": 1,
     "metadata": {},
     "output_type": "execute_result"
    }
   ],
   "source": [
    "#sample programe\n",
    "a=10\n",
    "b=20\n",
    "c=a+b\n",
    "c"
   ]
  },
  {
   "cell_type": "code",
   "execution_count": 2,
   "id": "4f16db2a",
   "metadata": {},
   "outputs": [
    {
     "name": "stdout",
     "output_type": "stream",
     "text": [
      "hello world\n"
     ]
    }
   ],
   "source": [
    "print(\"hello world\")"
   ]
  },
  {
   "cell_type": "code",
   "execution_count": 4,
   "id": "94c9c9ea",
   "metadata": {},
   "outputs": [
    {
     "name": "stdout",
     "output_type": "stream",
     "text": [
      "10\n"
     ]
    },
    {
     "data": {
      "text/plain": [
       "'this is awsome'"
      ]
     },
     "execution_count": 4,
     "metadata": {},
     "output_type": "execute_result"
    }
   ],
   "source": [
    "# to do the comments\n",
    "x=10\n",
    "y=10.5\n",
    "z='z'\n",
    "a=\"this is awsome\"\n",
    "print(x)\n",
    "y\n",
    "x\n",
    "a"
   ]
  },
  {
   "cell_type": "code",
   "execution_count": 5,
   "id": "fb67bff7",
   "metadata": {},
   "outputs": [
    {
     "name": "stdout",
     "output_type": "stream",
     "text": [
      "this is \n",
      "the multi \n",
      "line strings\n"
     ]
    }
   ],
   "source": [
    "#multi line strings\n",
    "x=\"\"\"this is \n",
    "the multi \n",
    "line strings\"\"\"\n",
    "print(x)"
   ]
  },
  {
   "cell_type": "code",
   "execution_count": 10,
   "id": "1bbedc91",
   "metadata": {},
   "outputs": [
    {
     "name": "stdout",
     "output_type": "stream",
     "text": [
      "This is the sample form\n",
      "lower case letters are\n",
      "2\n"
     ]
    }
   ],
   "source": [
    "#capitalize function\n",
    "x='this is the sample form'\n",
    "print(x.capitalize())\n",
    "#lower \n",
    "y=\"lower caSE LETTERS ARE\"\n",
    "print(y.casefold())\n",
    "#count the charector\n",
    "print(y.count(\"T\"))"
   ]
  },
  {
   "cell_type": "code",
   "execution_count": 11,
   "id": "5acf3322",
   "metadata": {},
   "outputs": [
    {
     "name": "stdout",
     "output_type": "stream",
     "text": [
      "b is greater\n"
     ]
    }
   ],
   "source": [
    "#if statments\n",
    "a=10\n",
    "b=29\n",
    "if a>b:\n",
    "    print(\"a is greater\")\n",
    "elif b>a:\n",
    "    print(\"b is greater\")\n",
    "else:\n",
    "    print(\"they are equal\")\n"
   ]
  },
  {
   "cell_type": "code",
   "execution_count": 14,
   "id": "ee503f4f",
   "metadata": {},
   "outputs": [
    {
     "name": "stdout",
     "output_type": "stream",
     "text": [
      "0\n",
      "1\n",
      "2\n",
      "3\n",
      "4\n",
      "5\n",
      "6\n",
      "7\n",
      "8\n",
      "9\n"
     ]
    }
   ],
   "source": [
    "#while loop\n",
    "i=0\n",
    "while i<10:\n",
    "    print(i)\n",
    "    i=i+1"
   ]
  },
  {
   "cell_type": "code",
   "execution_count": 17,
   "id": "6351ba90",
   "metadata": {},
   "outputs": [
    {
     "name": "stdout",
     "output_type": "stream",
     "text": [
      "True\n",
      "False\n"
     ]
    }
   ],
   "source": [
    "print('if'.isidentifier())\n",
    "print('i f'.isidentifier())"
   ]
  },
  {
   "cell_type": "code",
   "execution_count": 18,
   "id": "bb171c10",
   "metadata": {},
   "outputs": [
    {
     "name": "stdout",
     "output_type": "stream",
     "text": [
      "False\n"
     ]
    }
   ],
   "source": [
    "print('i  f'.isspace())"
   ]
  },
  {
   "cell_type": "code",
   "execution_count": 22,
   "id": "f8335a15",
   "metadata": {},
   "outputs": [
    {
     "name": "stdout",
     "output_type": "stream",
     "text": [
      "True\n"
     ]
    }
   ],
   "source": [
    "x=\"alkas\"\n",
    "print(x.islower())"
   ]
  },
  {
   "cell_type": "code",
   "execution_count": 34,
   "id": "675c4347",
   "metadata": {},
   "outputs": [
    {
     "name": "stdout",
     "output_type": "stream",
     "text": [
      "this is \n",
      "si y\n",
      " my str\n",
      " m\n",
      "chandana m\n",
      "ayyam anadnahc\n"
     ]
    }
   ],
   "source": [
    "#string sliceing\n",
    "string=\"this is my string\"\n",
    "print(string[0:8])\n",
    "string=\"this is my string\"\n",
    "print(string[3:10:2])\n",
    "string=\"this is my string\"\n",
    "print(string[-10:-3])\n",
    "string=\"this is my string\"\n",
    "print(string[-10:-8])\n",
    "string=\"chandana mayya\"\n",
    "print(string[:10])\n",
    "print(string[::-1])"
   ]
  },
  {
   "cell_type": "code",
   "execution_count": 42,
   "id": "cd51cd0d",
   "metadata": {},
   "outputs": [
    {
     "name": "stdout",
     "output_type": "stream",
     "text": [
      "palin\n"
     ]
    }
   ],
   "source": [
    "x=\"Malayalam\"\n",
    "y=x.lower()\n",
    "if y==y[::-1]:\n",
    "    print(\"palin\")\n",
    "else:\n",
    "    print(\"not palin\")\n",
    "    "
   ]
  },
  {
   "cell_type": "code",
   "execution_count": 66,
   "id": "fb9af406",
   "metadata": {},
   "outputs": [
    {
     "name": "stdout",
     "output_type": "stream",
     "text": [
      "3\n",
      "['one', [1, 2, 3], 1]\n",
      "['one', [1, 2, 3], 1, 2, 'x', 'hiii']\n",
      "None\n",
      "['one', [1, 2, 3], 1, 'string value', 2, 'x', 'hiii', [10, 11, 12, 12.5]]\n",
      "['one', [1, 2, 3], 1, 'string value', 2, 'x', 'hiii']\n",
      "['one', [1, 2, 3], 'string value', 2, 'x', 'hiii']\n",
      "['one', [1, 2, 3], 'string value', 2, 'hiii']\n",
      "['one', [1, 2, 3], 'string value', 2, 'hiii']\n"
     ]
    },
    {
     "ename": "TypeError",
     "evalue": "'<' not supported between instances of 'list' and 'str'",
     "output_type": "error",
     "traceback": [
      "\u001b[0;31m---------------------------------------------------------------------------\u001b[0m",
      "\u001b[0;31mTypeError\u001b[0m                                 Traceback (most recent call last)",
      "\u001b[0;32m/tmp/ipykernel_5270/736528068.py\u001b[0m in \u001b[0;36m<module>\u001b[0;34m\u001b[0m\n\u001b[1;32m     17\u001b[0m \u001b[0mlist1\u001b[0m\u001b[0;34m.\u001b[0m\u001b[0mindex\u001b[0m\u001b[0;34m(\u001b[0m\u001b[0;36m2\u001b[0m\u001b[0;34m)\u001b[0m\u001b[0;34m\u001b[0m\u001b[0;34m\u001b[0m\u001b[0m\n\u001b[1;32m     18\u001b[0m \u001b[0mprint\u001b[0m\u001b[0;34m(\u001b[0m\u001b[0mlist1\u001b[0m\u001b[0;34m)\u001b[0m\u001b[0;34m\u001b[0m\u001b[0;34m\u001b[0m\u001b[0m\n\u001b[0;32m---> 19\u001b[0;31m \u001b[0mlist1\u001b[0m\u001b[0;34m.\u001b[0m\u001b[0msort\u001b[0m\u001b[0;34m(\u001b[0m\u001b[0;34m)\u001b[0m\u001b[0;34m\u001b[0m\u001b[0;34m\u001b[0m\u001b[0m\n\u001b[0m",
      "\u001b[0;31mTypeError\u001b[0m: '<' not supported between instances of 'list' and 'str'"
     ]
    }
   ],
   "source": [
    "#list\n",
    "list1=[\"one\",[1,2,3],1,2,'x']\n",
    "print(list1[1][2])\n",
    "print(list1[0:3:1])\n",
    "list1.append(\"hiii\")\n",
    "print(list1)\n",
    "list2=[10,11,12,12.5]\n",
    "print(list1.append(list2))\n",
    "list1.insert(-4,\"string value\")\n",
    "print(list1)\n",
    "list1.remove(list2)\n",
    "print(list1)\n",
    "list1.remove(1)\n",
    "print(list1)\n",
    "list1.pop(4)\n",
    "print(list1)\n",
    "list1.index(2)\n",
    "print(list1)\n",
    "list1.sort()\n"
   ]
  },
  {
   "cell_type": "code",
   "execution_count": 68,
   "id": "d36c5087",
   "metadata": {},
   "outputs": [
    {
     "name": "stdout",
     "output_type": "stream",
     "text": [
      "[1, 3, 4, 6, 7, 65, 78, 78]\n"
     ]
    }
   ],
   "source": [
    "list1=[4,6,78,1,3,65,7,78]\n",
    "list1.sort()\n",
    "print(list1)"
   ]
  },
  {
   "cell_type": "code",
   "execution_count": null,
   "id": "de85998d",
   "metadata": {},
   "outputs": [],
   "source": []
  }
 ],
 "metadata": {
  "kernelspec": {
   "display_name": "Python 3 (ipykernel)",
   "language": "python",
   "name": "python3"
  },
  "language_info": {
   "codemirror_mode": {
    "name": "ipython",
    "version": 3
   },
   "file_extension": ".py",
   "mimetype": "text/x-python",
   "name": "python",
   "nbconvert_exporter": "python",
   "pygments_lexer": "ipython3",
   "version": "3.9.7"
  }
 },
 "nbformat": 4,
 "nbformat_minor": 5
}
