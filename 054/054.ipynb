{
 "cells": [
  {
   "cell_type": "code",
   "execution_count": 7,
   "id": "6520b698",
   "metadata": {},
   "outputs": [
    {
     "name": "stdout",
     "output_type": "stream",
     "text": [
      "h\n"
     ]
    }
   ],
   "source": [
    "#dictionary\n",
    "d1={1:\"h\",2:\"lazy\",3:\"crazy\"}\n",
    "print(d1[1])"
   ]
  },
  {
   "cell_type": "code",
   "execution_count": 8,
   "id": "ca8840f6",
   "metadata": {},
   "outputs": [],
   "source": [
    "string=\"my name is vri\"\n",
    "if \"v\" not in string:\n",
    "    print(\"v is in list\")"
   ]
  },
  {
   "cell_type": "code",
   "execution_count": 1,
   "id": "2a5a9410",
   "metadata": {},
   "outputs": [
    {
     "name": "stdout",
     "output_type": "stream",
     "text": [
      "calling the program\n"
     ]
    }
   ],
   "source": [
    "#defining a function\n",
    "def fname():\n",
    "    print(\"line1\")\n",
    "    print(\"line2\")\n",
    "    print(\"line3\")\n",
    "print(\"calling the program\")"
   ]
  },
  {
   "cell_type": "code",
   "execution_count": 2,
   "id": "a84501d6",
   "metadata": {},
   "outputs": [
    {
     "name": "stdout",
     "output_type": "stream",
     "text": [
      "calling the program\n",
      "line1\n",
      "line2\n",
      "line3\n"
     ]
    }
   ],
   "source": [
    "#defining a function\n",
    "def fname():\n",
    "    print(\"line1\")\n",
    "    print(\"line2\")\n",
    "    print(\"line3\")\n",
    "print(\"calling the program\")\n",
    "fname()"
   ]
  },
  {
   "cell_type": "code",
   "execution_count": 4,
   "id": "b3489e53",
   "metadata": {},
   "outputs": [
    {
     "name": "stdout",
     "output_type": "stream",
     "text": [
      "calling the program\n",
      "line1\n",
      "line2\n",
      "line3\n"
     ]
    },
    {
     "data": {
      "text/plain": [
       "'thank you'"
      ]
     },
     "execution_count": 4,
     "metadata": {},
     "output_type": "execute_result"
    }
   ],
   "source": [
    "#defining a function\n",
    "def fname():\n",
    "    print(\"line1\")\n",
    "    print(\"line2\")\n",
    "    print(\"line3\")\n",
    "    return(\"thank you\")\n",
    "print(\"calling the program\")\n",
    "fname()"
   ]
  },
  {
   "cell_type": "code",
   "execution_count": 6,
   "id": "08d5aac6",
   "metadata": {},
   "outputs": [
    {
     "name": "stdout",
     "output_type": "stream",
     "text": [
      "65\n"
     ]
    }
   ],
   "source": [
    "def result(h,r):\n",
    "    return h+r\n",
    "h=20\n",
    "r=45\n",
    "pay=result(h,r)\n",
    "print(pay)"
   ]
  },
  {
   "cell_type": "code",
   "execution_count": 7,
   "id": "299b1550",
   "metadata": {},
   "outputs": [
    {
     "name": "stdout",
     "output_type": "stream",
     "text": [
      "['h', 'n', 'o', 'p', 't', 'y']\n"
     ]
    }
   ],
   "source": [
    "#sorted elements\n",
    "ele=sorted(\"python\")\n",
    "print(ele)"
   ]
  },
  {
   "cell_type": "code",
   "execution_count": 8,
   "id": "25ef06f7",
   "metadata": {},
   "outputs": [
    {
     "name": "stdout",
     "output_type": "stream",
     "text": [
      "['h', 'n', 'o', 'p', 't', 'y']\n",
      "hnopty\n"
     ]
    }
   ],
   "source": [
    "#sorted elements\n",
    "ele=sorted(\"python\")\n",
    "print(ele)\n",
    "print(\"\".join(ele))"
   ]
  },
  {
   "cell_type": "code",
   "execution_count": 11,
   "id": "8fe542ea",
   "metadata": {},
   "outputs": [
    {
     "name": "stdout",
     "output_type": "stream",
     "text": [
      "madam\n",
      "madam\n"
     ]
    }
   ],
   "source": [
    "#anagram\n",
    "ele1=\"earth\"\n",
    "ele2=\"heart\"\n",
    "if(ele1)\n",
    "\n",
    "print(ele)\n",
    "print(\"\".join(ele))"
   ]
  },
  {
   "cell_type": "code",
   "execution_count": 14,
   "id": "45e8799a",
   "metadata": {},
   "outputs": [
    {
     "name": "stdout",
     "output_type": "stream",
     "text": [
      "anagram\n"
     ]
    }
   ],
   "source": [
    "#anagram\n",
    "ele1=\"earth\"\n",
    "ele2=\"heart\"\n",
    "if len(ele1)==len(ele2):\n",
    "    ele1=ele1.upper()\n",
    "    ele2=ele2.upper()\n",
    "    ele1=sorted(ele1)\n",
    "    ele2=sorted(ele2)\n",
    "    if \"\".join(ele1)==\"\".join(ele2):\n",
    "        print(\"anagram\")\n",
    "    else:\n",
    "        print(\"panagram\")\n",
    "else:\n",
    "    print(\"not an anagram\")\n",
    "\n",
    "        "
   ]
  },
  {
   "cell_type": "code",
   "execution_count": 15,
   "id": "3327e88b",
   "metadata": {},
   "outputs": [
    {
     "data": {
      "text/plain": [
       "'Hi'"
      ]
     },
     "execution_count": 15,
     "metadata": {},
     "output_type": "execute_result"
    }
   ],
   "source": [
    "#capitalise first letter\n",
    "a=\"hi\"\n",
    "a.capitalize()"
   ]
  },
  {
   "cell_type": "code",
   "execution_count": 16,
   "id": "cbd7b9ba",
   "metadata": {},
   "outputs": [
    {
     "data": {
      "text/plain": [
       "'Hi hello'"
      ]
     },
     "execution_count": 16,
     "metadata": {},
     "output_type": "execute_result"
    }
   ],
   "source": [
    "a=\"hi hello\"\n",
    "a.capitalize()"
   ]
  },
  {
   "cell_type": "code",
   "execution_count": 17,
   "id": "e8d45632",
   "metadata": {},
   "outputs": [
    {
     "data": {
      "text/plain": [
       "'111hi'"
      ]
     },
     "execution_count": 17,
     "metadata": {},
     "output_type": "execute_result"
    }
   ],
   "source": [
    "a=\"111hi\"\n",
    "a.capitalize()"
   ]
  },
  {
   "cell_type": "code",
   "execution_count": 19,
   "id": "94f9d0b8",
   "metadata": {},
   "outputs": [
    {
     "data": {
      "text/plain": [
       "'hi'"
      ]
     },
     "execution_count": 19,
     "metadata": {},
     "output_type": "execute_result"
    }
   ],
   "source": [
    "a=\"HI\"\n",
    "a.casefold()"
   ]
  },
  {
   "cell_type": "code",
   "execution_count": 20,
   "id": "54b88e83",
   "metadata": {},
   "outputs": [
    {
     "data": {
      "text/plain": [
       "'@hi33'"
      ]
     },
     "execution_count": 20,
     "metadata": {},
     "output_type": "execute_result"
    }
   ],
   "source": [
    "a=\"@HI33\"\n",
    "a.casefold()"
   ]
  },
  {
   "cell_type": "code",
   "execution_count": 21,
   "id": "16b2c02f",
   "metadata": {},
   "outputs": [
    {
     "name": "stdout",
     "output_type": "stream",
     "text": [
      "                      apple                       \n"
     ]
    }
   ],
   "source": [
    "#center\n",
    "a=\"apple\"\n",
    "x=a.center(50)\n",
    "print(x)"
   ]
  },
  {
   "cell_type": "code",
   "execution_count": 26,
   "id": "dd119fcb",
   "metadata": {},
   "outputs": [
    {
     "name": "stdout",
     "output_type": "stream",
     "text": [
      "@@@@@@@@@@@@@@@@@@@@@@apple@@@@@@@@@@@@@@@@@@@@@@@\n"
     ]
    }
   ],
   "source": [
    "#center\n",
    "a=\"apple\"\n",
    "x=a.center(50,\"@\")\n",
    "print(x)"
   ]
  },
  {
   "cell_type": "code",
   "execution_count": 36,
   "id": "1a3ec4cd",
   "metadata": {},
   "outputs": [
    {
     "name": "stdout",
     "output_type": "stream",
     "text": [
      "1\n"
     ]
    }
   ],
   "source": [
    "#count\n",
    "a=\"apple\"\n",
    "x=a.count(a)\n",
    "print(x)"
   ]
  },
  {
   "cell_type": "code",
   "execution_count": 34,
   "id": "3d886ec1",
   "metadata": {},
   "outputs": [
    {
     "name": "stdout",
     "output_type": "stream",
     "text": [
      "2\n"
     ]
    }
   ],
   "source": [
    "#count\n",
    "a=\"apple\"\n",
    "x=a.count(\"p\")\n",
    "print(x)"
   ]
  },
  {
   "cell_type": "code",
   "execution_count": null,
   "id": "f8be1d85",
   "metadata": {},
   "outputs": [],
   "source": [
    "#count\n",
    "a=\"apple\"\n",
    "x=a.count(\"p\")\n",
    "print(x)"
   ]
  },
  {
   "cell_type": "code",
   "execution_count": 42,
   "id": "9027d5a5",
   "metadata": {},
   "outputs": [
    {
     "name": "stdout",
     "output_type": "stream",
     "text": [
      "False\n"
     ]
    }
   ],
   "source": [
    "#endswith\n",
    "a=\"my name is vri\"\n",
    "x=a.endswith(\"z\")\n",
    "print(x)"
   ]
  },
  {
   "cell_type": "code",
   "execution_count": 43,
   "id": "3c7ea164",
   "metadata": {},
   "outputs": [
    {
     "name": "stdout",
     "output_type": "stream",
     "text": [
      "True\n"
     ]
    }
   ],
   "source": [
    "#endswith\n",
    "a=\"my name is vri\"\n",
    "x=a.endswith(\"i\")\n",
    "print(x)"
   ]
  },
  {
   "cell_type": "code",
   "execution_count": 46,
   "id": "f289d8c4",
   "metadata": {},
   "outputs": [
    {
     "name": "stdout",
     "output_type": "stream",
     "text": [
      "True\n"
     ]
    }
   ],
   "source": [
    "#endswith\n",
    "a=\"my name is vri\"\n",
    "x=a.endswith(\" \",2,3)\n",
    "print(x)"
   ]
  },
  {
   "cell_type": "code",
   "execution_count": null,
   "id": "79689e35",
   "metadata": {},
   "outputs": [],
   "source": [
    "#endswith\n",
    "a=\"my name is vri\"\n",
    "x=a.endswith(\" \",2,3)\n",
    "print(x)"
   ]
  },
  {
   "cell_type": "code",
   "execution_count": 49,
   "id": "488cf9bc",
   "metadata": {},
   "outputs": [
    {
     "name": "stdout",
     "output_type": "stream",
     "text": [
      "1\n"
     ]
    }
   ],
   "source": [
    "#findfunction\n",
    "a=\"fsdf apple\"\n",
    "x=a.find(\"p\")\n",
    "print(x)"
   ]
  },
  {
   "cell_type": "code",
   "execution_count": 50,
   "id": "79057a40",
   "metadata": {},
   "outputs": [
    {
     "name": "stdout",
     "output_type": "stream",
     "text": [
      "2\n"
     ]
    }
   ],
   "source": [
    "#findfunction\n",
    "a=\"fsdf apple\"\n",
    "x=a.find(\"d\")\n",
    "print(x)"
   ]
  },
  {
   "cell_type": "code",
   "execution_count": 53,
   "id": "f5ffa962",
   "metadata": {},
   "outputs": [
    {
     "name": "stdout",
     "output_type": "stream",
     "text": [
      "-1\n"
     ]
    }
   ],
   "source": [
    "#findfunction\n",
    "a=\"fsdf apple\"\n",
    "x=a.find(\"8\")\n",
    "print(x)"
   ]
  },
  {
   "cell_type": "code",
   "execution_count": 56,
   "id": "e79a7d71",
   "metadata": {},
   "outputs": [],
   "source": [
    "a=\"my heart says la la la la la la la la ala\"\n",
    "x=a.find(\"la\",20,30)"
   ]
  },
  {
   "cell_type": "code",
   "execution_count": 66,
   "id": "1b741db5",
   "metadata": {},
   "outputs": [
    {
     "name": "stdout",
     "output_type": "stream",
     "text": [
      "False\n"
     ]
    }
   ],
   "source": [
    "#istitle\n",
    "a=\"Asdf apple\"\n",
    "x=a.istitle()\n",
    "print(x)"
   ]
  },
  {
   "cell_type": "code",
   "execution_count": 67,
   "id": "5319acac",
   "metadata": {},
   "outputs": [
    {
     "name": "stdout",
     "output_type": "stream",
     "text": [
      "False\n"
     ]
    }
   ],
   "source": [
    "#istitle\n",
    "a=\"546 thfgh 456\"\n",
    "x=a.istitle()\n",
    "print(x)"
   ]
  },
  {
   "cell_type": "code",
   "execution_count": 76,
   "id": "d3167a7c",
   "metadata": {},
   "outputs": [
    {
     "name": "stdout",
     "output_type": "stream",
     "text": [
      "True\n"
     ]
    }
   ],
   "source": [
    "#istitle\n",
    "a=\"Rgnj Hlgkmlfg Gnjkg\"\n",
    "x=a.istitle()\n",
    "print(x)"
   ]
  },
  {
   "cell_type": "code",
   "execution_count": 74,
   "id": "e792fb68",
   "metadata": {},
   "outputs": [
    {
     "name": "stdout",
     "output_type": "stream",
     "text": [
      "Rgnj 54 Gnjkg\n"
     ]
    }
   ],
   "source": [
    "#istitle\n",
    "a=\"Rgnj 54 Gnjkg\"\n",
    "x=a.title()\n",
    "print(x)"
   ]
  },
  {
   "cell_type": "code",
   "execution_count": 78,
   "id": "5e708c49",
   "metadata": {},
   "outputs": [
    {
     "name": "stdout",
     "output_type": "stream",
     "text": [
      "This Is\n"
     ]
    }
   ],
   "source": [
    "#istitle\n",
    "a=\"This Is\"\n",
    "print(a.title())"
   ]
  },
  {
   "cell_type": "code",
   "execution_count": 80,
   "id": "ee2d3559",
   "metadata": {},
   "outputs": [
    {
     "name": "stdout",
     "output_type": "stream",
     "text": [
      "HeLoOoO\n"
     ]
    }
   ],
   "source": [
    "#swapcase\n",
    "a=\"hElOoOo\"\n",
    "x=a.swapcase()\n",
    "print(x)"
   ]
  },
  {
   "cell_type": "code",
   "execution_count": 81,
   "id": "f94da201",
   "metadata": {},
   "outputs": [
    {
     "name": "stdout",
     "output_type": "stream",
     "text": [
      "5This Is\n"
     ]
    }
   ],
   "source": [
    "#istitle\n",
    "a=\"5this Is\"\n",
    "print(a.title())"
   ]
  },
  {
   "cell_type": "code",
   "execution_count": 82,
   "id": "5faf0b49",
   "metadata": {},
   "outputs": [
    {
     "name": "stdout",
     "output_type": "stream",
     "text": [
      "['i', 'want', 'to', 'go', 'home']\n"
     ]
    }
   ],
   "source": [
    "string=\"i want to go home\"\n",
    "print(string.split())"
   ]
  },
  {
   "cell_type": "code",
   "execution_count": 84,
   "id": "f38dbd09",
   "metadata": {},
   "outputs": [
    {
     "name": "stdout",
     "output_type": "stream",
     "text": [
      "This Is\n"
     ]
    }
   ],
   "source": [
    "#convert first letter of sentence into uppercase\n",
    "#istitle\n",
    "a=\"this is\"\n",
    "print(a.title())"
   ]
  },
  {
   "cell_type": "code",
   "execution_count": 93,
   "id": "0b4a7ce0",
   "metadata": {},
   "outputs": [
    {
     "ename": "AttributeError",
     "evalue": "'str' object has no attribute 'reverse'",
     "output_type": "error",
     "traceback": [
      "\u001b[0;31m---------------------------------------------------------------------------\u001b[0m",
      "\u001b[0;31mAttributeError\u001b[0m                            Traceback (most recent call last)",
      "\u001b[0;32m/tmp/ipykernel_5778/3143710265.py\u001b[0m in \u001b[0;36m<module>\u001b[0;34m\u001b[0m\n\u001b[1;32m      1\u001b[0m \u001b[0;31m#reverse every string in agiven string\u001b[0m\u001b[0;34m\u001b[0m\u001b[0;34m\u001b[0m\u001b[0m\n\u001b[1;32m      2\u001b[0m \u001b[0mstring\u001b[0m\u001b[0;34m=\u001b[0m\u001b[0;34m\"Give Me\"\u001b[0m\u001b[0;34m\u001b[0m\u001b[0;34m\u001b[0m\u001b[0m\n\u001b[0;32m----> 3\u001b[0;31m \u001b[0mprint\u001b[0m\u001b[0;34m(\u001b[0m\u001b[0mstring\u001b[0m\u001b[0;34m.\u001b[0m\u001b[0mreverse\u001b[0m\u001b[0;34m)\u001b[0m\u001b[0;34m\u001b[0m\u001b[0;34m\u001b[0m\u001b[0m\n\u001b[0m",
      "\u001b[0;31mAttributeError\u001b[0m: 'str' object has no attribute 'reverse'"
     ]
    }
   ],
   "source": [
    "#reverse every string in agiven string\n",
    "string=\"Give Me\"\n",
    "print(string.reverse)"
   ]
  }
 ],
 "metadata": {
  "kernelspec": {
   "display_name": "Python 3 (ipykernel)",
   "language": "python",
   "name": "python3"
  },
  "language_info": {
   "codemirror_mode": {
    "name": "ipython",
    "version": 3
   },
   "file_extension": ".py",
   "mimetype": "text/x-python",
   "name": "python",
   "nbconvert_exporter": "python",
   "pygments_lexer": "ipython3",
   "version": "3.9.7"
  }
 },
 "nbformat": 4,
 "nbformat_minor": 5
}
